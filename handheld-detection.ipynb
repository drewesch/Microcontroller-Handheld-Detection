{
 "cells": [
  {
   "attachments": {},
   "cell_type": "markdown",
   "metadata": {},
   "source": [
    "# Handheld Detection Model\n",
    "Authors: Andrew Esch, Lauren Roe, Zach Pederson"
   ]
  },
  {
   "cell_type": "code",
   "execution_count": null,
   "metadata": {},
   "outputs": [],
   "source": [
    "# Import Python Libraries\n",
    "import serial\n",
    "from google.cloud import texttospeech\n",
    "from playsound import playsound"
   ]
  },
  {
   "cell_type": "code",
   "execution_count": null,
   "metadata": {},
   "outputs": [],
   "source": [
    "# Program Variables\n",
    "\n",
    "# Set up the serial ports\n",
    "ser1 = serial.Serial('COM1', 9600)\n",
    "ser2 = serial.Serial('COM2', 9600)\n",
    "\n",
    "# Set up the Google Cloud Text-to-Speech client\n",
    "client = texttospeech.TextToSpeechClient()\n",
    "\n",
    "# Define the keyword to search for\n",
    "keyword = \"Test Keyword\"\n",
    "\n",
    "# Keep track of the most recent result\n",
    "recent_result = \"\""
   ]
  },
  {
   "cell_type": "code",
   "execution_count": null,
   "metadata": {},
   "outputs": [],
   "source": [
    "# Program Loop\n",
    "while True:\n",
    "    # Read a line of data from the first serial port\n",
    "    line = ser1.readline().decode().strip()\n",
    "    \n",
    "    # Check if the keyword is in the line\n",
    "    if keyword in line:\n",
    "        # Output the most recent result as text-to-speech\n",
    "        synthesis_input = texttospeech.SynthesisInput(text=recent_result)\n",
    "        voice = texttospeech.VoiceSelectionParams(language_code=\"en-US\", ssml_gender=texttospeech.SsmlVoiceGender.NEUTRAL)\n",
    "        audio_config = texttospeech.AudioConfig(audio_encoding=texttospeech.AudioEncoding.MP3)\n",
    "        response = client.synthesize_speech(input=synthesis_input, voice=voice, audio_config=audio_config)\n",
    "        with open(\"output.mp3\", \"wb\") as out:\n",
    "            out.write(response.audio_content)\n",
    "        # Play the text-to-speech output\n",
    "        playsound(\"output.mp3\")\n",
    "        # Send the text-to-speech output to the second serial port\n",
    "        ser2.write(\"output.mp3\".encode())\n",
    "    else:\n",
    "        # Store the line as the most recent result\n",
    "        recent_result = line"
   ]
  }
 ],
 "metadata": {
  "language_info": {
   "name": "python"
  },
  "orig_nbformat": 4
 },
 "nbformat": 4,
 "nbformat_minor": 2
}
