{
 "cells": [
  {
   "attachments": {},
   "cell_type": "markdown",
   "metadata": {},
   "source": [
    "# Handheld Detection Model\n",
    "Authors: Andrew Esch, Lauren Roe, Zach Pederson"
   ]
  },
  {
   "cell_type": "code",
   "execution_count": 1,
   "metadata": {},
   "outputs": [],
   "source": [
    "# Import pip package commands\n",
    "# pip install serial\n",
    "# pip install --upgrade google-cloud-texttospeech\n",
    "# pip install playsound\n",
    "\n",
    "# Import Python Libraries\n",
    "import serial\n",
    "import pyttsx3\n",
    "from playsound import playsound"
   ]
  },
  {
   "cell_type": "code",
   "execution_count": 2,
   "metadata": {},
   "outputs": [
    {
     "ename": "SerialException",
     "evalue": "could not open port 'COM4': FileNotFoundError(2, 'The system cannot find the file specified.', None, 2)",
     "output_type": "error",
     "traceback": [
      "\u001b[1;31m---------------------------------------------------------------------------\u001b[0m",
      "\u001b[1;31mSerialException\u001b[0m                           Traceback (most recent call last)",
      "Cell \u001b[1;32mIn[2], line 4\u001b[0m\n\u001b[0;32m      1\u001b[0m \u001b[39m# Program Variables\u001b[39;00m\n\u001b[0;32m      2\u001b[0m \n\u001b[0;32m      3\u001b[0m \u001b[39m# Set up the serial ports\u001b[39;00m\n\u001b[1;32m----> 4\u001b[0m voice_controller \u001b[39m=\u001b[39m serial\u001b[39m.\u001b[39;49mSerial(\u001b[39m'\u001b[39;49m\u001b[39mCOM4\u001b[39;49m\u001b[39m'\u001b[39;49m, \u001b[39m9600\u001b[39;49m)\n\u001b[0;32m      5\u001b[0m object_controller \u001b[39m=\u001b[39m serial\u001b[39m.\u001b[39mSerial(\u001b[39m'\u001b[39m\u001b[39mCOM8\u001b[39m\u001b[39m'\u001b[39m, \u001b[39m9600\u001b[39m)\n\u001b[0;32m      7\u001b[0m \u001b[39m# Set up the Google Cloud Text-to-Speech client\u001b[39;00m\n",
      "File \u001b[1;32mc:\\Python311\\Lib\\site-packages\\serial\\serialwin32.py:33\u001b[0m, in \u001b[0;36mSerial.__init__\u001b[1;34m(self, *args, **kwargs)\u001b[0m\n\u001b[0;32m     31\u001b[0m \u001b[39mself\u001b[39m\u001b[39m.\u001b[39m_overlapped_read \u001b[39m=\u001b[39m \u001b[39mNone\u001b[39;00m\n\u001b[0;32m     32\u001b[0m \u001b[39mself\u001b[39m\u001b[39m.\u001b[39m_overlapped_write \u001b[39m=\u001b[39m \u001b[39mNone\u001b[39;00m\n\u001b[1;32m---> 33\u001b[0m \u001b[39msuper\u001b[39;49m(Serial, \u001b[39mself\u001b[39;49m)\u001b[39m.\u001b[39;49m\u001b[39m__init__\u001b[39;49m(\u001b[39m*\u001b[39;49margs, \u001b[39m*\u001b[39;49m\u001b[39m*\u001b[39;49mkwargs)\n",
      "File \u001b[1;32mc:\\Python311\\Lib\\site-packages\\serial\\serialutil.py:244\u001b[0m, in \u001b[0;36mSerialBase.__init__\u001b[1;34m(self, port, baudrate, bytesize, parity, stopbits, timeout, xonxoff, rtscts, write_timeout, dsrdtr, inter_byte_timeout, exclusive, **kwargs)\u001b[0m\n\u001b[0;32m    241\u001b[0m     \u001b[39mraise\u001b[39;00m \u001b[39mValueError\u001b[39;00m(\u001b[39m'\u001b[39m\u001b[39munexpected keyword arguments: \u001b[39m\u001b[39m{!r}\u001b[39;00m\u001b[39m'\u001b[39m\u001b[39m.\u001b[39mformat(kwargs))\n\u001b[0;32m    243\u001b[0m \u001b[39mif\u001b[39;00m port \u001b[39mis\u001b[39;00m \u001b[39mnot\u001b[39;00m \u001b[39mNone\u001b[39;00m:\n\u001b[1;32m--> 244\u001b[0m     \u001b[39mself\u001b[39;49m\u001b[39m.\u001b[39;49mopen()\n",
      "File \u001b[1;32mc:\\Python311\\Lib\\site-packages\\serial\\serialwin32.py:64\u001b[0m, in \u001b[0;36mSerial.open\u001b[1;34m(self)\u001b[0m\n\u001b[0;32m     62\u001b[0m \u001b[39mif\u001b[39;00m \u001b[39mself\u001b[39m\u001b[39m.\u001b[39m_port_handle \u001b[39m==\u001b[39m win32\u001b[39m.\u001b[39mINVALID_HANDLE_VALUE:\n\u001b[0;32m     63\u001b[0m     \u001b[39mself\u001b[39m\u001b[39m.\u001b[39m_port_handle \u001b[39m=\u001b[39m \u001b[39mNone\u001b[39;00m    \u001b[39m# 'cause __del__ is called anyway\u001b[39;00m\n\u001b[1;32m---> 64\u001b[0m     \u001b[39mraise\u001b[39;00m SerialException(\u001b[39m\"\u001b[39m\u001b[39mcould not open port \u001b[39m\u001b[39m{!r}\u001b[39;00m\u001b[39m: \u001b[39m\u001b[39m{!r}\u001b[39;00m\u001b[39m\"\u001b[39m\u001b[39m.\u001b[39mformat(\u001b[39mself\u001b[39m\u001b[39m.\u001b[39mportstr, ctypes\u001b[39m.\u001b[39mWinError()))\n\u001b[0;32m     66\u001b[0m \u001b[39mtry\u001b[39;00m:\n\u001b[0;32m     67\u001b[0m     \u001b[39mself\u001b[39m\u001b[39m.\u001b[39m_overlapped_read \u001b[39m=\u001b[39m win32\u001b[39m.\u001b[39mOVERLAPPED()\n",
      "\u001b[1;31mSerialException\u001b[0m: could not open port 'COM4': FileNotFoundError(2, 'The system cannot find the file specified.', None, 2)"
     ]
    }
   ],
   "source": [
    "# Program Variables\n",
    "\n",
    "# Set up the serial ports\n",
    "voice_controller = serial.Serial('COM4', 9600)\n",
    "object_controller = serial.Serial('COM8', 9600)\n",
    "\n",
    "# Set up the Google Cloud Text-to-Speech client\n",
    "client = texttospeech.TextToSpeechClient()\n",
    "\n",
    "# Define the keywords to search for\n",
    "keywords = [\"Test Keyword 1\", \"Test Keyword 2\", \"Test Keyword 3\"]\n",
    "\n",
    "# Keep track of the most recent result\n",
    "recent_result = \"\""
   ]
  },
  {
   "cell_type": "code",
   "execution_count": null,
   "metadata": {},
   "outputs": [
    {
     "ename": "",
     "evalue": "",
     "output_type": "error",
     "traceback": [
      "\u001b[1;31mRunning cells with 'c:\\Python311\\python.exe' requires the ipykernel package.\n",
      "\u001b[1;31mRun the following command to install 'ipykernel' into the Python environment. \n",
      "\u001b[1;31mCommand: 'c:/Python311/python.exe -m pip install ipykernel -U --user --force-reinstall'"
     ]
    }
   ],
   "source": [
    "# Program Loop\n",
    "while True:\n",
    "    # Read a line of data  from both serial ports\n",
    "    voice_line = voice_controller.readline().decode().strip()\n",
    "    object_line = object_controller.readline().decode().strip()\n",
    "    \n",
    "    # Check if any of the keywords are in the line\n",
    "    for keyword in keywords:\n",
    "        if keyword in voice_line:\n",
    "            # Output the most recent result as text-to-speech\n",
    "            synthesis_input = texttospeech.SynthesisInput(text=object_results)\n",
    "            voice = texttospeech.VoiceSelectionParams(language_code=\"en-US\", ssml_gender=texttospeech.SsmlVoiceGender.NEUTRAL)\n",
    "            audio_config = texttospeech.AudioConfig(audio_encoding=texttospeech.AudioEncoding.MP3)\n",
    "            response = client.synthesize_speech(input=synthesis_input, voice=voice, audio_config=audio_config)\n",
    "            with open(\"output.mp3\", \"wb\") as out:\n",
    "                out.write(response.audio_content)\n",
    "            # Play the text-to-speech output\n",
    "            playsound(\"output.mp3\")\n",
    "            # Exit the loop once a keyword has been found\n",
    "            break\n",
    "    else:\n",
    "        # Store the line as the most recent result\n",
    "        object_results = object_line\n"
   ]
  }
 ],
 "metadata": {
  "kernelspec": {
   "display_name": "Python 3",
   "language": "python",
   "name": "python3"
  },
  "language_info": {
   "codemirror_mode": {
    "name": "ipython",
    "version": 3
   },
   "file_extension": ".py",
   "mimetype": "text/x-python",
   "name": "python",
   "nbconvert_exporter": "python",
   "pygments_lexer": "ipython3",
   "version": "3.11.0"
  },
  "orig_nbformat": 4
 },
 "nbformat": 4,
 "nbformat_minor": 2
}
