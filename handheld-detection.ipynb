{
 "cells": [
  {
   "attachments": {},
   "cell_type": "markdown",
   "metadata": {},
   "source": [
    "# Handheld Detection Model\n",
    "Authors: Andrew Esch, Lauren Roe, Zach Pederson"
   ]
  },
  {
   "cell_type": "code",
   "execution_count": 1,
   "metadata": {},
   "outputs": [
    {
     "name": "stderr",
     "output_type": "stream",
     "text": [
      "playsound is relying on another python subprocess. Please use `pip install pygobject` if you want playsound to run more efficiently.\n"
     ]
    }
   ],
   "source": [
    "# Import Python Libraries\n",
    "import serial\n",
    "from google.cloud import texttospeech\n",
    "from playsound import playsound"
   ]
  },
  {
   "cell_type": "code",
   "execution_count": 2,
   "metadata": {},
   "outputs": [
    {
     "ename": "SerialException",
     "evalue": "[Errno 2] could not open port COM1: [Errno 2] No such file or directory: 'COM1'",
     "output_type": "error",
     "traceback": [
      "\u001b[0;31m---------------------------------------------------------------------------\u001b[0m",
      "\u001b[0;31mFileNotFoundError\u001b[0m                         Traceback (most recent call last)",
      "File \u001b[0;32m/usr/lib/python3/dist-packages/serial/serialposix.py:265\u001b[0m, in \u001b[0;36mSerial.open\u001b[0;34m(self)\u001b[0m\n\u001b[1;32m    264\u001b[0m \u001b[39mtry\u001b[39;00m:\n\u001b[0;32m--> 265\u001b[0m     \u001b[39mself\u001b[39m\u001b[39m.\u001b[39mfd \u001b[39m=\u001b[39m os\u001b[39m.\u001b[39;49mopen(\u001b[39mself\u001b[39;49m\u001b[39m.\u001b[39;49mportstr, os\u001b[39m.\u001b[39;49mO_RDWR \u001b[39m|\u001b[39;49m os\u001b[39m.\u001b[39;49mO_NOCTTY \u001b[39m|\u001b[39;49m os\u001b[39m.\u001b[39;49mO_NONBLOCK)\n\u001b[1;32m    266\u001b[0m \u001b[39mexcept\u001b[39;00m \u001b[39mOSError\u001b[39;00m \u001b[39mas\u001b[39;00m msg:\n",
      "\u001b[0;31mFileNotFoundError\u001b[0m: [Errno 2] No such file or directory: 'COM1'",
      "\nDuring handling of the above exception, another exception occurred:\n",
      "\u001b[0;31mSerialException\u001b[0m                           Traceback (most recent call last)",
      "\u001b[1;32m/home/droo/Microcontroller-Handheld-Detection/handheld-detection.ipynb Cell 3\u001b[0m in \u001b[0;36m<cell line: 4>\u001b[0;34m()\u001b[0m\n\u001b[1;32m      <a href='vscode-notebook-cell://wsl%2Bubuntu/home/droo/Microcontroller-Handheld-Detection/handheld-detection.ipynb#W4sdnNjb2RlLXJlbW90ZQ%3D%3D?line=0'>1</a>\u001b[0m \u001b[39m# Program Variables\u001b[39;00m\n\u001b[1;32m      <a href='vscode-notebook-cell://wsl%2Bubuntu/home/droo/Microcontroller-Handheld-Detection/handheld-detection.ipynb#W4sdnNjb2RlLXJlbW90ZQ%3D%3D?line=1'>2</a>\u001b[0m \n\u001b[1;32m      <a href='vscode-notebook-cell://wsl%2Bubuntu/home/droo/Microcontroller-Handheld-Detection/handheld-detection.ipynb#W4sdnNjb2RlLXJlbW90ZQ%3D%3D?line=2'>3</a>\u001b[0m \u001b[39m# Set up the serial ports\u001b[39;00m\n\u001b[0;32m----> <a href='vscode-notebook-cell://wsl%2Bubuntu/home/droo/Microcontroller-Handheld-Detection/handheld-detection.ipynb#W4sdnNjb2RlLXJlbW90ZQ%3D%3D?line=3'>4</a>\u001b[0m ser1 \u001b[39m=\u001b[39m serial\u001b[39m.\u001b[39;49mSerial(\u001b[39m'\u001b[39;49m\u001b[39mCOM1\u001b[39;49m\u001b[39m'\u001b[39;49m, \u001b[39m9600\u001b[39;49m)\n\u001b[1;32m      <a href='vscode-notebook-cell://wsl%2Bubuntu/home/droo/Microcontroller-Handheld-Detection/handheld-detection.ipynb#W4sdnNjb2RlLXJlbW90ZQ%3D%3D?line=4'>5</a>\u001b[0m ser2 \u001b[39m=\u001b[39m serial\u001b[39m.\u001b[39mSerial(\u001b[39m'\u001b[39m\u001b[39mCOM2\u001b[39m\u001b[39m'\u001b[39m, \u001b[39m9600\u001b[39m)\n\u001b[1;32m      <a href='vscode-notebook-cell://wsl%2Bubuntu/home/droo/Microcontroller-Handheld-Detection/handheld-detection.ipynb#W4sdnNjb2RlLXJlbW90ZQ%3D%3D?line=6'>7</a>\u001b[0m \u001b[39m# Set up the Google Cloud Text-to-Speech client\u001b[39;00m\n",
      "File \u001b[0;32m/usr/lib/python3/dist-packages/serial/serialutil.py:240\u001b[0m, in \u001b[0;36mSerialBase.__init__\u001b[0;34m(self, port, baudrate, bytesize, parity, stopbits, timeout, xonxoff, rtscts, write_timeout, dsrdtr, inter_byte_timeout, exclusive, **kwargs)\u001b[0m\n\u001b[1;32m    237\u001b[0m     \u001b[39mraise\u001b[39;00m \u001b[39mValueError\u001b[39;00m(\u001b[39m'\u001b[39m\u001b[39munexpected keyword arguments: \u001b[39m\u001b[39m{!r}\u001b[39;00m\u001b[39m'\u001b[39m\u001b[39m.\u001b[39mformat(kwargs))\n\u001b[1;32m    239\u001b[0m \u001b[39mif\u001b[39;00m port \u001b[39mis\u001b[39;00m \u001b[39mnot\u001b[39;00m \u001b[39mNone\u001b[39;00m:\n\u001b[0;32m--> 240\u001b[0m     \u001b[39mself\u001b[39;49m\u001b[39m.\u001b[39;49mopen()\n",
      "File \u001b[0;32m/usr/lib/python3/dist-packages/serial/serialposix.py:268\u001b[0m, in \u001b[0;36mSerial.open\u001b[0;34m(self)\u001b[0m\n\u001b[1;32m    266\u001b[0m \u001b[39mexcept\u001b[39;00m \u001b[39mOSError\u001b[39;00m \u001b[39mas\u001b[39;00m msg:\n\u001b[1;32m    267\u001b[0m     \u001b[39mself\u001b[39m\u001b[39m.\u001b[39mfd \u001b[39m=\u001b[39m \u001b[39mNone\u001b[39;00m\n\u001b[0;32m--> 268\u001b[0m     \u001b[39mraise\u001b[39;00m SerialException(msg\u001b[39m.\u001b[39merrno, \u001b[39m\"\u001b[39m\u001b[39mcould not open port \u001b[39m\u001b[39m{}\u001b[39;00m\u001b[39m: \u001b[39m\u001b[39m{}\u001b[39;00m\u001b[39m\"\u001b[39m\u001b[39m.\u001b[39mformat(\u001b[39mself\u001b[39m\u001b[39m.\u001b[39m_port, msg))\n\u001b[1;32m    269\u001b[0m \u001b[39m#~ fcntl.fcntl(self.fd, fcntl.F_SETFL, 0)  # set blocking\u001b[39;00m\n\u001b[1;32m    271\u001b[0m \u001b[39mtry\u001b[39;00m:\n",
      "\u001b[0;31mSerialException\u001b[0m: [Errno 2] could not open port COM1: [Errno 2] No such file or directory: 'COM1'"
     ]
    }
   ],
   "source": [
    "# Program Variables\n",
    "\n",
    "# Set up the serial ports\n",
    "ser1 = serial.Serial('COM1', 9600)\n",
    "ser2 = serial.Serial('COM2', 9600)\n",
    "\n",
    "# Set up the Google Cloud Text-to-Speech client\n",
    "client = texttospeech.TextToSpeechClient()\n",
    "\n",
    "# Define the keywords to search for\n",
    "keywords = [\"Test Keyword 1\", \"Test Keyword 2\", \"Test Keyword 3\"]\n",
    "\n",
    "# Keep track of the most recent result\n",
    "recent_result = \"\""
   ]
  },
  {
   "cell_type": "code",
   "execution_count": null,
   "metadata": {},
   "outputs": [],
   "source": [
    "# Program Loop\n",
    "while True:\n",
    "    # Read a line of data from the first serial port\n",
    "    line = ser1.readline().decode().strip()\n",
    "    \n",
    "    # Check if any of the keywords are in the line\n",
    "    for keyword in keywords:\n",
    "        if keyword in line:\n",
    "            # Output the most recent result as text-to-speech\n",
    "            synthesis_input = texttospeech.SynthesisInput(text=recent_result)\n",
    "            voice = texttospeech.VoiceSelectionParams(language_code=\"en-US\", ssml_gender=texttospeech.SsmlVoiceGender.NEUTRAL)\n",
    "            audio_config = texttospeech.AudioConfig(audio_encoding=texttospeech.AudioEncoding.MP3)\n",
    "            response = client.synthesize_speech(input=synthesis_input, voice=voice, audio_config=audio_config)\n",
    "            with open(\"output.mp3\", \"wb\") as out:\n",
    "                out.write(response.audio_content)\n",
    "            # Play the text-to-speech output\n",
    "            playsound(\"output.mp3\")\n",
    "            # Send the text-to-speech output to the second serial port\n",
    "            ser2.write(\"output.mp3\".encode())\n",
    "            # Exit the loop once a keyword has been found\n",
    "            break\n",
    "    else:\n",
    "        # Store the line as the most recent result\n",
    "        recent_result = line"
   ]
  }
 ],
 "metadata": {
  "kernelspec": {
   "display_name": "Python 3",
   "language": "python",
   "name": "python3"
  },
  "language_info": {
   "codemirror_mode": {
    "name": "ipython",
    "version": 3
   },
   "file_extension": ".py",
   "mimetype": "text/x-python",
   "name": "python",
   "nbconvert_exporter": "python",
   "pygments_lexer": "ipython3",
   "version": "3.8.10"
  },
  "orig_nbformat": 4
 },
 "nbformat": 4,
 "nbformat_minor": 2
}
