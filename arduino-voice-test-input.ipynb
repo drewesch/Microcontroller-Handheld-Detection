{
 "cells": [
  {
   "attachments": {},
   "cell_type": "markdown",
   "metadata": {},
   "source": [
    "# Handheld Detection Model\n",
    "Authors: Andrew Esch, Lauren Roe, Zach Pederson"
   ]
  },
  {
   "cell_type": "code",
   "execution_count": 11,
   "metadata": {},
   "outputs": [],
   "source": [
    "# Import pip package commands\n",
    "# pip install serial\n",
    "# pip install --upgrade google-cloud-texttospeech\n",
    "# pip install playsound\n",
    "# pip install pyttsx3\n",
    "\n",
    "# Import Python Libraries\n",
    "import serial\n",
    "import pyttsx3\n",
    "from playsound import playsound\n",
    "import time"
   ]
  },
  {
   "cell_type": "code",
   "execution_count": null,
   "metadata": {},
   "outputs": [],
   "source": [
    "# Program Variables\n",
    "\n",
    "# Set up the serial ports\n",
    "voice_controller = serial.Serial('COM8', 9600)\n",
    "\n",
    "# Set up the Text-to-Speech engine\n",
    "engine = pyttsx3.init()\n",
    "\n",
    "# Define the keywords to search for\n",
    "keywords = [\"what-is-this\", \"how-many-objects\"]\n",
    "\n",
    "# Keep track of the most recent result\n",
    "# recent_result = \"\"\n",
    "\n",
    "# Start timer\n",
    "start_time = time.time()\n",
    "\n",
    "# Read data from the serial port\n",
    "while True:\n",
    "    data = voice_controller.readline()\n",
    "    print(data.decode('utf-8'))\n",
    "    engine.say(data.decode('utf-8'))\n",
    "    engine.runAndWait()\n",
    "\n",
    "# Close the serial port when finished\n",
    "voice_controller.close()"
   ]
  }
 ],
 "metadata": {
  "kernelspec": {
   "display_name": "Python 3",
   "language": "python",
   "name": "python3"
  },
  "language_info": {
   "codemirror_mode": {
    "name": "ipython",
    "version": 3
   },
   "file_extension": ".py",
   "mimetype": "text/x-python",
   "name": "python",
   "nbconvert_exporter": "python",
   "pygments_lexer": "ipython3",
   "version": "3.11.0"
  },
  "orig_nbformat": 4
 },
 "nbformat": 4,
 "nbformat_minor": 2
}
