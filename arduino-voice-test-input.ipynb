{
 "cells": [
  {
   "attachments": {},
   "cell_type": "markdown",
   "metadata": {},
   "source": [
    "# Handheld Detection Model\n",
    "Authors: Andrew Esch, Lauren Roe, Zach Pederson"
   ]
  },
  {
   "cell_type": "code",
   "execution_count": 1,
   "metadata": {},
   "outputs": [],
   "source": [
    "# Import pip package commands\n",
    "# pip install serial\n",
    "# pip install --upgrade google-cloud-texttospeech\n",
    "# pip install playsound\n",
    "# pip install pyttsx3\n",
    "\n",
    "# Import Python Libraries\n",
    "import serial\n",
    "import pyttsx3\n",
    "from playsound import playsound\n",
    "import time"
   ]
  },
  {
   "cell_type": "code",
   "execution_count": 2,
   "metadata": {},
   "outputs": [
    {
     "name": "stdout",
     "output_type": "stream",
     "text": [
      "Detected noise...\n",
      "\n",
      "    noise: 0.98828\n",
      "\n",
      "Detected noise...\n",
      "\n",
      "    noise: 0.94922\n",
      "\n",
      "Detected noise...\n",
      "\n",
      "    noise: 0.99609\n",
      "\n",
      "Detected noise...\n",
      "\n",
      "    noise: 0.99609\n",
      "\n",
      "Detected noise...\n",
      "\n",
      "    noise: 0.99609\n",
      "\n",
      "Detected noise...\n",
      "\n",
      "    noise: 0.99609\n",
      "\n"
     ]
    },
    {
     "ename": "KeyboardInterrupt",
     "evalue": "",
     "output_type": "error",
     "traceback": [
      "\u001b[1;31m---------------------------------------------------------------------------\u001b[0m",
      "\u001b[1;31mKeyboardInterrupt\u001b[0m                         Traceback (most recent call last)",
      "Cell \u001b[1;32mIn[2], line 15\u001b[0m\n\u001b[0;32m     10\u001b[0m \u001b[39m# Keep track of the most recent result\u001b[39;00m\n\u001b[0;32m     11\u001b[0m \u001b[39m# recent_result = \"\"\u001b[39;00m\n\u001b[0;32m     12\u001b[0m \n\u001b[0;32m     13\u001b[0m \u001b[39m# Read voice_data from the serial port\u001b[39;00m\n\u001b[0;32m     14\u001b[0m \u001b[39mwhile\u001b[39;00m \u001b[39mTrue\u001b[39;00m:\n\u001b[1;32m---> 15\u001b[0m     voice_data \u001b[39m=\u001b[39m voice_controller\u001b[39m.\u001b[39;49mreadline()\n\u001b[0;32m     16\u001b[0m     \u001b[39m# print(voice_data.decode('utf-8'))\u001b[39;00m\n\u001b[0;32m     17\u001b[0m     \u001b[39mif\u001b[39;00m (voice_data\u001b[39m.\u001b[39mdecode(\u001b[39m'\u001b[39m\u001b[39mutf-8\u001b[39m\u001b[39m'\u001b[39m)\u001b[39m.\u001b[39mstartswith(\u001b[39m\"\u001b[39m\u001b[39m    noise: 0.8\u001b[39m\u001b[39m\"\u001b[39m) \u001b[39mor\u001b[39;00m voice_data\u001b[39m.\u001b[39mdecode(\u001b[39m'\u001b[39m\u001b[39mutf-8\u001b[39m\u001b[39m'\u001b[39m)\u001b[39m.\u001b[39mstartswith(\u001b[39m\"\u001b[39m\u001b[39m    noise: 0.9\u001b[39m\u001b[39m\"\u001b[39m)):\n",
      "File \u001b[1;32mc:\\Python311\\Lib\\site-packages\\serial\\serialwin32.py:288\u001b[0m, in \u001b[0;36mSerial.read\u001b[1;34m(self, size)\u001b[0m\n\u001b[0;32m    286\u001b[0m \u001b[39mif\u001b[39;00m \u001b[39mnot\u001b[39;00m read_ok \u001b[39mand\u001b[39;00m win32\u001b[39m.\u001b[39mGetLastError() \u001b[39mnot\u001b[39;00m \u001b[39min\u001b[39;00m (win32\u001b[39m.\u001b[39mERROR_SUCCESS, win32\u001b[39m.\u001b[39mERROR_IO_PENDING):\n\u001b[0;32m    287\u001b[0m     \u001b[39mraise\u001b[39;00m SerialException(\u001b[39m\"\u001b[39m\u001b[39mReadFile failed (\u001b[39m\u001b[39m{!r}\u001b[39;00m\u001b[39m)\u001b[39m\u001b[39m\"\u001b[39m\u001b[39m.\u001b[39mformat(ctypes\u001b[39m.\u001b[39mWinError()))\n\u001b[1;32m--> 288\u001b[0m result_ok \u001b[39m=\u001b[39m win32\u001b[39m.\u001b[39;49mGetOverlappedResult(\n\u001b[0;32m    289\u001b[0m     \u001b[39mself\u001b[39;49m\u001b[39m.\u001b[39;49m_port_handle,\n\u001b[0;32m    290\u001b[0m     ctypes\u001b[39m.\u001b[39;49mbyref(\u001b[39mself\u001b[39;49m\u001b[39m.\u001b[39;49m_overlapped_read),\n\u001b[0;32m    291\u001b[0m     ctypes\u001b[39m.\u001b[39;49mbyref(rc),\n\u001b[0;32m    292\u001b[0m     \u001b[39mTrue\u001b[39;49;00m)\n\u001b[0;32m    293\u001b[0m \u001b[39mif\u001b[39;00m \u001b[39mnot\u001b[39;00m result_ok:\n\u001b[0;32m    294\u001b[0m     \u001b[39mif\u001b[39;00m win32\u001b[39m.\u001b[39mGetLastError() \u001b[39m!=\u001b[39m win32\u001b[39m.\u001b[39mERROR_OPERATION_ABORTED:\n",
      "\u001b[1;31mKeyboardInterrupt\u001b[0m: "
     ]
    }
   ],
   "source": [
    "# Program Variables\n",
    "\n",
    "# Set up the serial ports\n",
    "voice_controller = serial.Serial('COM8', 9600)\n",
    "# object_controller = serial.Serial('COM4', 9600)\n",
    "\n",
    "# Set up the Text-to-Speech engine\n",
    "engine = pyttsx3.init()\n",
    "\n",
    "# Read voice_data from the serial port\n",
    "while True:\n",
    "    voice_data = voice_controller.readline()\n",
    "    # print(voice_data.decode('utf-8'))\n",
    "    if (voice_data.decode('utf-8').startswith(\"    noise: 0.8\") or voice_data.decode('utf-8').startswith(\"    noise: 0.9\")):\n",
    "        # State that noise was detected\n",
    "        print(\"Detected noise...\\n\")\n",
    "    elif (voice_data.decode('utf-8').startswith(\"    how-many-objects: 0.8\") or voice_data.decode('utf-8').startswith(\"    how-many-objects: 0.9\")):\n",
    "        print(\"Question asked: How many objects?\\n\")\n",
    "        # print(voice_data.decode('utf-8'))\n",
    "\n",
    "        # Goal:\n",
    "        # 1. Await for a message that says \"Taking image\"\n",
    "        # 2. Then, count how many objects were in that image round\n",
    "        # 3. Finally, use the text-to-speech model to state how many objects there were\n",
    "\n",
    "    elif (voice_data.decode('utf-8').startswith(\"    what-is-this: 0.8\") or voice_data.decode('utf-8').startswith(\"    what-is-this: 0.9\")):\n",
    "        print(\"Question asked: What is this?\\n\")\n",
    "        # print(voice_data.decode('utf-8'))\n",
    "\n",
    "        # Goal:\n",
    "        # 1. Await for a message that says \"Taking image\"\n",
    "        # 2. Then, get a list of everything the model detected for one round\n",
    "        # 4. Finally, use the text-to-speech model to output the list of what was detected\n",
    "\n",
    "    # Example of text-to-speech implementation\n",
    "    # engine.say(voice_data.decode('utf-8'))\n",
    "    # engine.runAndWait()\n",
    "\n",
    "# Close the serial ports when finished\n",
    "voice_controller.close()\n",
    "# object_controller.close()"
   ]
  }
 ],
 "metadata": {
  "kernelspec": {
   "display_name": "Python 3",
   "language": "python",
   "name": "python3"
  },
  "language_info": {
   "codemirror_mode": {
    "name": "ipython",
    "version": 3
   },
   "file_extension": ".py",
   "mimetype": "text/x-python",
   "name": "python",
   "nbconvert_exporter": "python",
   "pygments_lexer": "ipython3",
   "version": "3.11.0"
  },
  "orig_nbformat": 4
 },
 "nbformat": 4,
 "nbformat_minor": 2
}
